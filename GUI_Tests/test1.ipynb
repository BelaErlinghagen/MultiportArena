{
 "cells": [
  {
   "cell_type": "code",
   "execution_count": 4,
   "id": "85534085",
   "metadata": {},
   "outputs": [],
   "source": [
    "import dearpygui.dearpygui as dpg\n",
    "from math import sin, cos"
   ]
  },
  {
   "cell_type": "code",
   "execution_count": 5,
   "id": "7124241f",
   "metadata": {},
   "outputs": [],
   "source": [
    "def callback_create_trial(sender):\n",
    "    text = sender\n",
    "\n",
    "\n",
    "dpg.create_context()\n",
    "dpg.create_viewport(title=\"Multiport Arena Setup\")\n",
    "dpg.setup_dearpygui()\n",
    "\n",
    "# with dpg.window(tag=\"Primary Window\"):\n",
    "#     dpg.add_text(\"Mouse ID\")\n",
    "#     dpg.add_input_text(callback=callback_create_trial)\n",
    "\n",
    "\n",
    "sindatax = []\n",
    "sindatay = []\n",
    "for i in range(0, 500):\n",
    "    sindatax.append(i / 1000)\n",
    "    sindatay.append(0.5 + 0.5 * sin(50 * i / 1000))\n",
    "\n",
    "def update_series():\n",
    "\n",
    "    cosdatax = []\n",
    "    cosdatay = []\n",
    "    for i in range(0, 500):\n",
    "        cosdatax.append(i / 1000)\n",
    "        cosdatay.append(0.5 + 0.5 * cos(50 * i / 1000))\n",
    "    dpg.set_value('series_tag', [cosdatax, cosdatay])\n",
    "    dpg.set_item_label('series_tag', \"0.5 + 0.5 * cos(x)\")\n",
    "\n",
    "with dpg.window(label=\"Tutorial\", tag=\"win\"):\n",
    "    dpg.add_button(label=\"Update Series\", callback=update_series)\n",
    "    # create plot\n",
    "    with dpg.plot(label=\"Line Series\", height=400, width=400):\n",
    "        # optionally create legend\n",
    "        dpg.add_plot_legend()\n",
    "\n",
    "        # REQUIRED: create x and y axes\n",
    "        dpg.add_plot_axis(dpg.mvXAxis, label=\"x\")\n",
    "        dpg.add_plot_axis(dpg.mvYAxis, label=\"y\", tag=\"y_axis\")\n",
    "\n",
    "        # series belong to a y axis\n",
    "        dpg.add_line_series(sindatax, sindatay, label=\"0.5 + 0.5 * sin(x)\", parent=\"y_axis\", tag=\"series_tag\")\n",
    "\n",
    "dpg.show_viewport()\n",
    "# dpg.set_primary_window(\"Primary Window\", True)\n",
    "dpg.start_dearpygui()\n",
    "dpg.destroy_context()"
   ]
  },
  {
   "cell_type": "code",
   "execution_count": 6,
   "id": "d8a7d777",
   "metadata": {},
   "outputs": [
    {
     "ename": "NameError",
     "evalue": "name 'text' is not defined",
     "output_type": "error",
     "traceback": [
      "\u001b[1;31m---------------------------------------------------------------------------\u001b[0m",
      "\u001b[1;31mNameError\u001b[0m                                 Traceback (most recent call last)",
      "Cell \u001b[1;32mIn[6], line 1\u001b[0m\n\u001b[1;32m----> 1\u001b[0m \u001b[38;5;28mprint\u001b[39m(text)\n",
      "\u001b[1;31mNameError\u001b[0m: name 'text' is not defined"
     ]
    }
   ],
   "source": [
    "print(text)"
   ]
  }
 ],
 "metadata": {
  "kernelspec": {
   "display_name": "base",
   "language": "python",
   "name": "python3"
  },
  "language_info": {
   "codemirror_mode": {
    "name": "ipython",
    "version": 3
   },
   "file_extension": ".py",
   "mimetype": "text/x-python",
   "name": "python",
   "nbconvert_exporter": "python",
   "pygments_lexer": "ipython3",
   "version": "3.11.7"
  }
 },
 "nbformat": 4,
 "nbformat_minor": 5
}
